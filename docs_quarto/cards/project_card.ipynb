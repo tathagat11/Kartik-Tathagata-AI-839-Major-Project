{
    "cells": [
     {
      "cell_type": "markdown",
      "metadata": {
       "tags": [
        "header"
       ]
      },
      "source": [
       "---\n",
       "title:  Project Card\n",
       "subtitle: Product Review Rating Prediction System\n",
       "version: v0.1\n",
       "card version: v0.1\n",
       "author: Tathagata Talukdar, Kartik Gawande\n",
       "date: 30-Nov-2024\n",
       "objective: >\n",
       "    Our project aims to transform the landscape of how e-commerce platforms utilize customer reviews. By developing a machine learning system that predicts numerical ratings from historical text reviews, we intend to enhance product recommendation accuracy, improve customer satisfaction sorting, identify trending products efficiently, and quickly flag problematic items.\n",
       "\n",
       "tag: >\n",
       "    This notebook uses tags to render the output. Each call has a tag. There are three tags: objective, instruction, response. \n",
       "    The cell with objective tag explains the purpose of this project card. Cells with instruction tag, are the key sections of the document that must be filled.  A cell following immediately will have a tag response. You only fill the cell with response tag. DO NOT MODIFY the cells with tag instruction. Of course, feel free to modify to your needs. Once the format is agreed upon, stick to it.\n",
       "format:\n",
       "    html:\n",
       "        code-fold: true\n",
       "---"
      ]
     },
     {
      "cell_type": "markdown",
      "metadata": {
       "tags": [
        "instruction"
       ]
      },
      "source": [
       "# Business View"
      ]
     },
     {
      "cell_type": "markdown",
      "metadata": {},
      "source": [
       "## Background"
      ]
     },
     {
      "cell_type": "markdown",
      "metadata": {
       "tags": [
        "response"
       ]
      },
      "source": [
       "The volume of user-generated content in the form of product reviews is a valuable source of customer sentiment and preferences. These reviews, when quantified into ratings, can provide significant insights for businesses, helping improve their products and services. By leveraging natural language processing, specifically sentiment analysis, businesses can automate the interpretation of vast amounts of textual feedback into structured ratings."
      ]
     },
     {
      "cell_type": "markdown",
      "metadata": {
       "tags": [
        "instruction"
       ]
      },
      "source": [
       "## Problem"
      ]
     },
     {
      "cell_type": "markdown",
      "metadata": {
       "tags": [
        "response"
       ]
      },
      "source": [
       "While textual reviews provide detailed insights, manually interpreting them is time-consuming and subject to bias. An automated system that predicts numerical ratings based on review text can provide a more objective and scalable method for understanding customer satisfaction and expectations."
      ]
     },
     {
      "cell_type": "markdown",
      "metadata": {
       "tags": [
        "instruction"
       ]
      },
      "source": [
       "## Customer"
      ]
     },
     {
      "cell_type": "markdown",
      "metadata": {
       "tags": [
        "response"
       ]
      },
      "source": [
       "The primary customers for this project are:\n",
       "\n",
       "- E-commerce platforms that aggregate customer reviews\n",
       "- Marketing and product development teams interested in customer feedback analysis\n",
       "- Consumer insight analysts focusing on sentiment analysis\n",
       "- Companies requiring tools for automated feedback processing"
      ]
     },
     {
      "cell_type": "markdown",
      "metadata": {
       "tags": [
        "instruction"
       ]
      },
      "source": [
       "## Value Proposition"
      ]
     },
     {
      "cell_type": "markdown",
      "metadata": {
       "tags": [
        "response"
       ]
      },
      "source": [
       "- Accurately predict the rating of a review based on the textual content, enhancing the understanding of customer sentiments\n",
       "- Provide a tool for real-time feedback analysis, which can scale across thousands of reviews without manual intervention\n",
       "- Offer insights that can guide product improvements and marketing strategies\n",
       "- Enable businesses to quickly identify areas needing attention by quantifying customer satisfaction through ratings"
      ]
     },
     {
      "cell_type": "markdown",
      "metadata": {
       "tags": [
        "instruction"
       ]
      },
      "source": [
       "## Product"
      ]
     },
     {
      "cell_type": "markdown",
      "metadata": {
       "tags": [
        "response"
       ]
      },
      "source": [
       "Users will interact with a predictive model that offers:\n",
       "\n",
       "1. A pre-trained model fine-tuned on the Amazon Fine Food Reviews dataset to predict ratings from review text\n",
       "2. An API to integrate this model into existing customer feedback systems or dashboards\n",
       "3. Customizable model parameters that allow adaptation to specific business needs or datasets\n",
       "4. Comprehensive documentation on model deployment and integration\n",
       "5. Ongoing support and updates based on the latest advancements in NLP"
      ]
     },
     {
      "cell_type": "markdown",
      "metadata": {
       "tags": [
        "instruction"
       ]
      },
      "source": [
       "## Objectives"
      ]
     },
     {
      "cell_type": "markdown",
      "metadata": {
       "tags": [
        "response"
       ]
      },
      "source": [
       "1. Develop and validate a model that predicts ratings from review text with an accuracy exceeding 80% by Q2 2025\n",
       "2. Launch a pilot with a major e-commerce platform to integrate the predictive model by Q3 20253. \n",
       "3. Achieve a user adoption rate of 50% among targeted customer segments within one year of release\n",
       "4. Collect and incorporate user feedback to refine the model and increase its prediction accuracy by Q4 2025"
      ]
     },
     {
      "cell_type": "markdown",
      "metadata": {
       "tags": [
        "instruction"
       ]
      },
      "source": [
       "## Risks & Challenges"
      ]
     },
     {
      "cell_type": "markdown",
      "metadata": {
       "tags": [
        "response"
       ]
      },
      "source": [
       "- Ensuring the model accurately interprets various linguistic nuances and sentiments expressed in review texts\n",
       "- Handling the diversity of product contexts within reviews which may affect rating predictions\n",
       "- Addressing the potential biases in the training data which could skew prediction outcomes\n",
       "- Managing the expectations of stakeholders regarding the predictive accuracy and applicability of the model across different product categories"
      ]
     },
     {
      "cell_type": "markdown",
      "metadata": {
       "tags": [
        "instruction"
       ]
      },
      "source": [
       "# ML View"
      ]
     },
     {
      "cell_type": "markdown",
      "metadata": {
       "tags": [
        "instruction"
       ]
      },
      "source": [
       "## Task"
      ]
     },
     {
      "cell_type": "markdown",
      "metadata": {
       "tags": [
        "response"
       ]
      },
      "source": [
       "This project involves a multi-class classification task using natural language processing to predict the rating (from 1 to 5) of a product based on customer review text. The RoBERTa language model, pre-trained on a diverse text corpus, will be fine-tuned on the Amazon Fine Food Reviews dataset."
      ]
     },
     {
      "cell_type": "markdown",
      "metadata": {
       "tags": [
        "instruction"
       ]
      },
      "source": [
       "## Metrics"
      ]
     },
     {
      "cell_type": "markdown",
      "metadata": {
       "tags": [
        "response"
       ]
      },
      "source": [
       "- Primary: Accuracy of predicted ratings\n",
       "- Supporting metrics:\n",
       "  1. Mean Squared Error (MSE) – to quantify the average of the squares of the errors between the predicted and actual ratings.\n",
       "  2. F1 Score for each class – to understand the balance between precision and recall across different rating levels.\n",
       "  3. Confusion Matrix – to visualize the performance of the algorithm across the rating categories."
      ]
     },
     {
      "cell_type": "markdown",
      "metadata": {
       "tags": [
        "instruction"
       ]
      },
      "source": [
       "## Evaluation"
      ]
     },
     {
      "cell_type": "markdown",
      "metadata": {
       "tags": [
        "response"
       ]
      },
      "source": [
       "Evaluation will be performed as follows:\n",
       "\n",
       "1. Train/test split with 80/20 ratio to ensure sufficient testing data.\n",
       "2. Application of cross-validation techniques to gauge the model's performance across different subsets of data.\n",
       "3. Use of libraries like scikit-learn for implementing the training sessions and generating evaluation metrics.\n",
       "4. Regular monitoring of model performance during training to adjust parameters and improve outcomes.\n",
       "5. Periodic updates and re-evaluation post-deployment to adapt to new data and user feedback."
      ]
     },
     {
      "cell_type": "markdown",
      "metadata": {
       "tags": [
        "instruction"
       ]
      },
      "source": [
       "## Data"
      ]
     },
     {
      "cell_type": "markdown",
      "metadata": {
       "tags": [
        "response"
       ]
      },
      "source": [
       "- Primary dataset: Amazon Fine Food Reviews dataset\n",
       "- Features include:\n",
       "    - Text of the review – Main feature used for training the model.\n",
       "    - Length of the review – Secondary feature that may be considered during feature engineering.\n",
       "    - User and product metadata – Such as user ID and product ID that can be encoded and used for model enhancements.\n",
       "- Data Pipeline:\n",
       "    - Data ingestion from dataset archives.\n",
       "    - Initial data cleaning to remove any irrelevant or missing data.\n",
       "    - Preprocessing steps including tokenization and encoding of text data using RoBERTa's tokenizer.\n",
       "    - Feature engineering to potentially include review length and user/product interaction effects.\n",
       "    - Train/test split as per the evaluation plan."
      ]
     },
     {
      "cell_type": "markdown",
      "metadata": {
       "tags": [
        "instruction"
       ]
      },
      "source": [
       "## Plan/Roadmap"
      ]
     },
     {
      "cell_type": "markdown",
      "metadata": {
       "tags": [
        "response"
       ]
      },
      "source": [
       "1. Phase 1 - Initial Development\n",
       "    - Set up data preprocessing pipelines to prepare the review texts for model training.\n",
       "    - Implement a prototype model using a pre-trained RoBERTa model fine-tuned on the review data.\n",
       "    - Develop a baseline model and benchmark its initial performance.\n",
       "2. Phase 2 - Model Optimization\n",
       "    - Refine the model based on initial test results, focusing on improving accuracy and reducing MSE.\n",
       "    - Explore advanced NLP techniques such as sentiment embedding to enhance model understanding.\n",
       "    - Conduct extensive testing and validation to ensure robustness and scalability.\n",
       "3. Phase 3 - Deployment and Monitoring\n",
       "    - Deploy the model through an API for real-time rating prediction.\n",
       "    - Establish a monitoring system using frameworks like TensorFlow Extended (TFX) for continuous evaluation.\n",
       "    - Gather and incorporate user feedback to further refine the model."
      ]
     },
     {
      "cell_type": "markdown",
      "metadata": {
       "tags": [
        "instruction"
       ]
      },
      "source": [
       "## Continuous Improvement"
      ]
     },
     {
      "cell_type": "markdown",
      "metadata": {},
      "source": [
       "1. Automated monitoring via:\n",
       "    - MLflow for experiment tracking to monitor model training sessions and hyperparameter tuning results.\n",
       "    - Custom logs in the model serving API to track predictions and request patterns, identifying potential anomalies or shifts in data distribution.\n",
       "    - Utilizing Evidently or similar tools to detect drift in data features or predictions over time.\n",
       "\n",
       "2. Regular Updates:\n",
       "    - Periodic model retraining based on detected drift and performance metrics.\n",
       "    - Ongoing analysis of feature importance to refine and optimize input variables.\n",
       "    - Tracking of performance metrics such as accuracy and MSE to ensure the model meets business expectations.\n",
       "    - Incorporation of user feedback into model updates to enhance functionality and user satisfaction."
      ]
     },
     {
      "cell_type": "markdown",
      "metadata": {
       "tags": [
        "instruction"
       ]
      },
      "source": [
       "## Resources"
      ]
     },
     {
      "cell_type": "markdown",
      "metadata": {
       "tags": [
        "instruction"
       ]
      },
      "source": [
       "### Human Resources"
      ]
     },
     {
      "cell_type": "markdown",
      "metadata": {
       "tags": [
        "response"
       ]
      },
      "source": [
       "1. Data Science Team:\n",
       "    - 1 ML Engineer responsible for model development and iteration.\n",
       "    - 1 Data Engineer to manage data pipelines and ensure data quality and availability.\n",
       "    - 1 MLOps Engineer to oversee the deployment, scaling, and monitoring of the model in production.\n",
       "\n",
       "2. Product Team:\n",
       "    - 1 Product Manager to coordinate project activities, aligning them with business goals.\n",
       "    - 1 UX Designer to design and test the model interface to ensure usability.\n",
       "    - 2 Full-stack Developers to integrate the model with the back-end systems and handle the front-end development.\n",
       "\n",
       "3. Domain Experts:\n",
       "    - 1 NLP Scientist with expertise in text analysis and natural language understanding to provide guidance on model training and evaluation.\n",
       "    - 1 User Experience Researcher to gather and interpret customer feedback to drive product improvements."
      ]
     },
     {
      "cell_type": "markdown",
      "metadata": {
       "tags": [
        "instruction"
       ]
      },
      "source": [
       "### Compute Resources"
      ]
     },
     {
      "cell_type": "markdown",
      "metadata": {
       "tags": [
        "response"
       ]
      },
      "source": [
       "1. Development:\n",
       "    - Utilization of a local or cloud-based environment with Kedro for pipeline management.\n",
       "    - MLflow hosted on a dedicated server or cloud instance for tracking experiments and model versions.\n",
       "    - Development databases to manage datasets, annotations, and test results.\n",
       "\n",
       "2. Production:\n",
       "    - Deployment on a cloud platform such as AWS or Azure, utilizing their managed services for scalability and reliability.\n",
       "    - Dedicated storage for model artifacts and a robust logging system for monitoring model performance.\n",
       "    - Load balancing across multiple servers to manage the API's user requests efficiently.\n",
       "    - Implementation of backup and disaster recovery strategies to ensure service continuity.\n",
       "\n",
       "3. Storage:\n",
       "    - Secure cloud storage solutions for sensitive data, ensuring compliance with data protection regulations.\n",
       "    - A model registry to manage different versions of the trained models.\n",
       "    - Log storage for maintaining detailed records of system operations and user interactions.\n",
       "    - Backup systems to safeguard data against accidental loss or corruption."
      ]
     },
     {
      "cell_type": "markdown",
      "metadata": {},
      "source": []
     }
    ],
    "metadata": {
     "kernelspec": {
      "display_name": "Kedro (tathagata_ai_839)",
      "language": "python",
      "name": "kedro_tathagata_ai_839"
     },
     "language_info": {
      "codemirror_mode": {
       "name": "ipython",
       "version": 3
      },
      "file_extension": ".py",
      "mimetype": "text/x-python",
      "name": "python",
      "nbconvert_exporter": "python",
      "pygments_lexer": "ipython3",
      "version": "3.10.12"
     }
    },
    "nbformat": 4,
    "nbformat_minor": 4
   }