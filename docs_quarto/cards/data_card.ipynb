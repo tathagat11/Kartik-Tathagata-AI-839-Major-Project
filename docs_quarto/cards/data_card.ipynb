{
 "cells": [
  {
   "cell_type": "markdown",
   "metadata": {},
   "source": [
    "---\n",
    "title: Data Card\n",
    "subtitle: Review Rating Model\n",
    "version: v0.1\n",
    "card version: v0.1\n",
    "author: Tathagata Talukdar, Kartik Gawande\n",
    "date: 24-Nov-2024\n",
    "format:\n",
    "    html:\n",
    "        toc: true\n",
    "        code-fold: true\n",
    "        html-math-method: katex\n",
    "        embed-resources: true\n",
    "execute:\n",
    "    echo: true\n",
    "    warning: false\n",
    "dependencies:\n",
    "    - plotly=5.18.0\n",
    "jupyter: python3\n",
    "---\n"
   ]
  },
  {
   "cell_type": "code",
   "execution_count": 4,
   "metadata": {},
   "outputs": [],
   "source": [
    "import os\n",
    "import pandas as pd\n",
    "import json\n",
    "from evidently.metric_preset import DataQualityPreset\n",
    "from evidently.metrics import DatasetCorrelationsMetric\n",
    "from evidently.report import Report\n",
    "import json\n",
    "from rich import print\n",
    "from pathlib import Path\n",
    "\n",
    "from pathlib import Path\n",
    "\n",
    "# Data Quality Functions\n",
    "def generate_data_quality_report(data: pd.DataFrame) -> None:\n",
    "    data_quality_report = Report(\n",
    "        metrics=[DataQualityPreset(), DatasetCorrelationsMetric()]\n",
    "    )\n",
    "    relevant_data = data[['HelpfulnessNumerator', 'HelpfulnessDenominator', 'Score', 'Id']]\n",
    "    data_quality_report.run(current_data=relevant_data, reference_data=None)\n",
    "    root_dir = os.getcwd()\n",
    "    report_path = os.path.join(root_dir, 'docs_quarto', 'data_quality', 'data_quality_report.qmd')\n",
    "    os.makedirs(os.path.dirname(report_path), exist_ok=True)\n",
    "    html_content = data_quality_report.get_html()\n",
    "    with open(report_path, 'w') as f:\n",
    "        f.write(\"```{=html}\")\n",
    "        f.write(html_content)\n",
    "        f.write(\"```\")\n",
    "\n",
    "def get_data_quality_metrics(data: pd.DataFrame) -> dict:\n",
    "    metrics = {\n",
    "        \"num_features\": len(data.columns),\n",
    "        \"num_rows\": len(data),\n",
    "        \"missing_values\": data.isnull().sum().sum() / (data.shape[0] * data.shape[1])\n",
    "    }\n",
    "    return metrics\n",
    "\n",
    "def run_data_quality_checks(df: pd.DataFrame) -> dict:\n",
    "    generate_data_quality_report(df)\n",
    "    metrics = get_data_quality_metrics(df)\n",
    "    return metrics\n",
    "\n",
    "# Node Function\n",
    "def create_data_card(loaded_data: pd.DataFrame, data_quality_metrics: dict) -> str:\n",
    "    data_card = {\n",
    "        \"dataset_name\": \"Amazon Fine Food Reviews\",\n",
    "        \"number_of_rows\": len(loaded_data),\n",
    "        \"number_of_features\": len(loaded_data.columns),\n",
    "        \"feature_names\": list(loaded_data.columns),\n",
    "        \"data_quality_metrics\": data_quality_metrics,\n",
    "    }\n",
    "    return json.dumps(data_card)\n",
    "\n",
    "# Example usage\n",
    "data_path = r'data/01_raw/Reviews.csv'  # Change this to the path of your dataset\n",
    "data = pd.read_csv(data_path)\n",
    "data_quality_metrics = run_data_quality_checks(data)\n",
    "data_card_json = create_data_card(data, data_quality_metrics)\n",
    "data_card = json.loads(data_card_json)"
   ]
  },
  {
   "cell_type": "markdown",
   "metadata": {},
   "source": [
    "- **Name**: Amazon Fine Food Reviews\n",
    "- **Description**: This dataset contains over 500,000 food reviews from Amazon users up to October 2012. Reviews include information about the product and user, with ratings, helpfulness votes, and a summary.\n",
    "- **Dataset from time**: Oct 1999 - Oct 2012\n",
    "- **Version**: 2.0"
   ]
  },
  {
   "cell_type": "markdown",
   "metadata": {},
   "source": [
    "### Dataset Characteristics"
   ]
  },
  {
   "cell_type": "code",
   "execution_count": 17,
   "metadata": {},
   "outputs": [
    {
     "data": {
      "text/html": [
       "<pre style=\"white-space:pre;overflow-x:auto;line-height:normal;font-family:Menlo,'DejaVu Sans Mono',consolas,'Courier New',monospace\">• <span style=\"font-weight: bold\">Number of Instances</span>: <span style=\"color: #008080; text-decoration-color: #008080; font-weight: bold\">568454</span>\n",
       "• <span style=\"font-weight: bold\">Number of Features</span>: <span style=\"color: #008080; text-decoration-color: #008080; font-weight: bold\">10</span>\n",
       "• <span style=\"font-weight: bold\">Target Variable</span>: y <span style=\"font-weight: bold\">(</span>boolean<span style=\"font-weight: bold\">)</span>\n",
       "</pre>\n"
      ],
      "text/plain": [
       "• \u001b[1mNumber of Instances\u001b[0m: \u001b[1;36m568454\u001b[0m\n",
       "• \u001b[1mNumber of Features\u001b[0m: \u001b[1;36m10\u001b[0m\n",
       "• \u001b[1mTarget Variable\u001b[0m: y \u001b[1m(\u001b[0mboolean\u001b[1m)\u001b[0m\n"
      ]
     },
     "metadata": {},
     "output_type": "display_data"
    }
   ],
   "source": [
    "# project_dir = Path().absolute().parent\n",
    "# data_card_path = project_dir / \"data\" / \"08_reporting\" / \"data-card\" / \"data_card.json\"\n",
    "\n",
    "# with open(data_card_path) as f:\n",
    "#     data_card = json.load(f)\n",
    "#     data_card = json.loads(data_card)\n",
    "print(f\"\"\"• [bold]Number of Instances[/bold]: {data_card['number_of_rows']}\n",
    "• [bold]Number of Features[/bold]: {data_card['number_of_features']}\n",
    "• [bold]Target Variable[/bold]: y (boolean)\"\"\")"
   ]
  },
  {
   "cell_type": "markdown",
   "metadata": {},
   "source": [
    "### Features"
   ]
  },
  {
   "cell_type": "code",
   "execution_count": 18,
   "metadata": {},
   "outputs": [
    {
     "data": {
      "text/html": [
       "<pre style=\"white-space:pre;overflow-x:auto;line-height:normal;font-family:Menlo,'DejaVu Sans Mono',consolas,'Courier New',monospace\"><span style=\"color: #008080; text-decoration-color: #008080; font-weight: bold\">1</span>. Id\n",
       "<span style=\"color: #008080; text-decoration-color: #008080; font-weight: bold\">2</span>. ProductId\n",
       "<span style=\"color: #008080; text-decoration-color: #008080; font-weight: bold\">3</span>. UserId\n",
       "<span style=\"color: #008080; text-decoration-color: #008080; font-weight: bold\">4</span>. ProfileName\n",
       "<span style=\"color: #008080; text-decoration-color: #008080; font-weight: bold\">5</span>. HelpfulnessNumerator\n",
       "<span style=\"color: #008080; text-decoration-color: #008080; font-weight: bold\">6</span>. HelpfulnessDenominator\n",
       "<span style=\"color: #008080; text-decoration-color: #008080; font-weight: bold\">7</span>. Score\n",
       "<span style=\"color: #008080; text-decoration-color: #008080; font-weight: bold\">8</span>. Time\n",
       "<span style=\"color: #008080; text-decoration-color: #008080; font-weight: bold\">9</span>. Summary\n",
       "<span style=\"color: #008080; text-decoration-color: #008080; font-weight: bold\">10</span>. Text\n",
       "</pre>\n"
      ],
      "text/plain": [
       "\u001b[1;36m1\u001b[0m. Id\n",
       "\u001b[1;36m2\u001b[0m. ProductId\n",
       "\u001b[1;36m3\u001b[0m. UserId\n",
       "\u001b[1;36m4\u001b[0m. ProfileName\n",
       "\u001b[1;36m5\u001b[0m. HelpfulnessNumerator\n",
       "\u001b[1;36m6\u001b[0m. HelpfulnessDenominator\n",
       "\u001b[1;36m7\u001b[0m. Score\n",
       "\u001b[1;36m8\u001b[0m. Time\n",
       "\u001b[1;36m9\u001b[0m. Summary\n",
       "\u001b[1;36m10\u001b[0m. Text\n"
      ]
     },
     "metadata": {},
     "output_type": "display_data"
    }
   ],
   "source": [
    "features_list = [f\"{i + 1}. {data_card['feature_names'][i]}\" \n",
    "                 for i in range(len(data_card[\"feature_names\"]))]\n",
    "print(\"\\n\".join(features_list))"
   ]
  },
  {
   "cell_type": "markdown",
   "metadata": {},
   "source": [
    "### Data Collection\n",
    "- **Method**: Unknown"
   ]
  },
  {
   "cell_type": "markdown",
   "metadata": {},
   "source": [
    "### Intended Use\n",
    "- **Sentiment Analysis**: Analyzing the sentiment of the reviews—whether they are positive, negative, or neutral. This is useful for understanding consumer opinions and improving products or services.\n",
    "\n",
    "- **Text Classification**: Classifying reviews into various categories based on their content, which could help in automatically sorting feedback into different areas such as packaging, taste, and customer service.\n",
    "\n",
    "- **Recommendation Systems**: Using the ratings and reviews to build recommendation systems that can suggest products to users based on the preferences of similar users.\n",
    "\n",
    "- **Language Modeling**: Training language models to generate text that mimics user-generated content, which can be useful for creating automated responses or new reviews for training.\n",
    "\n",
    "- **Feature Extraction**: Extracting and analyzing specific features from the text, such as the use of adjectives, to study how language use affects the perception of a product.\n",
    "\n",
    "- **Data Visualization**: Visualizing data to identify trends and patterns in consumer behavior over time, across different products, or among different groups of reviewers."
   ]
  },
  {
   "cell_type": "markdown",
   "metadata": {},
   "source": [
    "### Ethical Considerations\n",
    "- Ensure fair and unbiased use of the data, particularly regarding protected attributes like personal status.\n",
    "- Be cautious of potential biases in the original data collection process.\n",
    "- Consider the implications of using this data for decision-making in financial contexts."
   ]
  },
  {
   "cell_type": "markdown",
   "metadata": {},
   "source": [
    "### Known Limitations\n",
    "- **Bias in Reviews**: The dataset may not represent the general population as it only includes reviews from Amazon users who are more likely to provide feedback. Users who write reviews might differ significantly in their tastes and expectations from the average consumer.\n",
    "\n",
    "- **Rating Inflation**: There is often a tendency for review datasets to show rating inflation where the number of high ratings disproportionately exceeds lower ratings. This can skew analysis, particularly if the goal is to understand negative feedback.\n",
    "\n",
    "- **Outdated Information**: As products and consumer preferences evolve over time, the reviews, especially older ones, may not accurately reflect the current status or quality of a product.\n",
    "\n",
    "- **Missing Context**: Reviews may reference specific product versions, experiences, or events not fully detailed in the text, leading to potential misinterpretation of the sentiment or content of the review.\n",
    "\n",
    "- **Text Quality**: The quality of text in reviews can vary greatly. Some reviews may be very brief or poorly written, offering little useful information for analysis, while others may be verbose and detailed.\n",
    "\n",
    "- **Spam and Fake Reviews**: The presence of spam or fake reviews can distort analysis, leading to inaccurate conclusions unless methods are in place to identify and filter out such content.\n",
    "\n",
    "- **Limited Demographic Data**: The dataset primarily focuses on the text and ratings of reviews without providing detailed demographic information about the reviewers, which could be crucial for understanding preferences across different user segments."
   ]
  }
 ],
 "metadata": {
  "kernelspec": {
   "display_name": "Kedro (review_rating)",
   "language": "python",
   "name": "kedro_review_rating"
  },
  "language_info": {
   "codemirror_mode": {
    "name": "ipython",
    "version": 3
   },
   "file_extension": ".py",
   "mimetype": "text/x-python",
   "name": "python",
   "nbconvert_exporter": "python",
   "pygments_lexer": "ipython3",
   "version": "3.12.7"
  }
 },
 "nbformat": 4,
 "nbformat_minor": 2
}
